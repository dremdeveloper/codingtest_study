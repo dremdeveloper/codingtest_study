{
 "cells": [
  {
   "cell_type": "markdown",
   "metadata": {},
   "source": [
    "# 몸풀기 문제"
   ]
  },
  {
   "cell_type": "markdown",
   "metadata": {},
   "source": [
    "#몸풀기 괄호 짝 맞추기 - 문제 8\n"
   ]
  },
  {
   "cell_type": "code",
   "execution_count": 1,
   "metadata": {},
   "outputs": [],
   "source": [
    "def solution(s):\n",
    "    lst = []\n",
    "    for i in range(len(s)):\n",
    "        if s[i] == '(':\n",
    "            lst.append(s[i])\n",
    "        else:\n",
    "            if len(lst) == 0:\n",
    "                print(False)\n",
    "                return\n",
    "            else:\n",
    "                lst.pop()\n",
    "    if len(lst)==0:\n",
    "        print(True)\n",
    "    else:\n",
    "        print(False)\n",
    "        print('g')\n",
    "\n"
   ]
  },
  {
   "cell_type": "code",
   "execution_count": 2,
   "metadata": {},
   "outputs": [
    {
     "name": "stdout",
     "output_type": "stream",
     "text": [
      "False\n",
      "g\n"
     ]
    }
   ],
   "source": [
    "s = \"(())()\"\n",
    "s = \")(())()\"\n",
    "s = \"((())()\"\n",
    "solution(s)"
   ]
  },
  {
   "cell_type": "markdown",
   "metadata": {},
   "source": [
    "10진수를 2진수로 변환하기"
   ]
  },
  {
   "cell_type": "code",
   "execution_count": 5,
   "metadata": {},
   "outputs": [
    {
     "data": {
      "text/plain": [
       "'11000000111001'"
      ]
     },
     "execution_count": 5,
     "metadata": {},
     "output_type": "execute_result"
    }
   ],
   "source": [
    "def solution(n):\n",
    "    lst = []\n",
    "    while n != 0:\n",
    "        if n % 2 == 0:\n",
    "            lst.append('0')\n",
    "        else:\n",
    "            lst.append('1')\n",
    "        n = n //2\n",
    "    result = \"\"\n",
    "    for i in range(len(lst)):\n",
    "        result+= lst.pop()\n",
    "    return result\n",
    "n = 12345\n",
    "solution(n)"
   ]
  },
  {
   "cell_type": "markdown",
   "metadata": {},
   "source": [
    "# 합격자가 되는 모의 테스트"
   ]
  },
  {
   "cell_type": "markdown",
   "metadata": {},
   "source": [
    "3-1 괄호 회전하기 "
   ]
  },
  {
   "cell_type": "code",
   "execution_count": 6,
   "metadata": {},
   "outputs": [],
   "source": [
    "def check_fair(left,right):\n",
    "    if left == '{' and right == '}':\n",
    "        return True\n",
    "    elif left == '[' and right == ']':\n",
    "        return True\n",
    "    elif left == '(' and right == ')':\n",
    "        return True\n",
    "    else:\n",
    "       return False"
   ]
  },
  {
   "cell_type": "code",
   "execution_count": 34,
   "metadata": {},
   "outputs": [],
   "source": [
    "def solution(s):\n",
    "    result = 0\n",
    "\n",
    "    for i in range(len(s)):\n",
    "        lst = []\n",
    "        for j in range(len(s)):\n",
    "            tmp = s[(i+j)%len(s)]\n",
    "            if tmp in ['(','{','[']: \n",
    "                lst.append(tmp)\n",
    "            else:\n",
    "                if len(lst) != 0  and check_fair(lst.pop(), tmp):\n",
    "                    continue\n",
    "                else:\n",
    "                    break\n",
    "        else:\n",
    "            if not lst:\n",
    "                result +=1\n",
    "    print(result)\n"
   ]
  },
  {
   "cell_type": "code",
   "execution_count": 35,
   "metadata": {},
   "outputs": [
    {
     "name": "stdout",
     "output_type": "stream",
     "text": [
      "3\n"
     ]
    }
   ],
   "source": [
    "s = \"}]()[{\"\n",
    "s = \"[](){}\"\n",
    "solution(s)"
   ]
  },
  {
   "cell_type": "markdown",
   "metadata": {},
   "source": [
    "3-2 짝지어 제거하기 "
   ]
  },
  {
   "cell_type": "code",
   "execution_count": 10,
   "metadata": {},
   "outputs": [],
   "source": [
    "def solution(s):\n",
    "    lst = []\n",
    "    for i in range(len(s)):\n",
    "        if len(lst) ==0:\n",
    "            lst.append(s[i])\n",
    "            continue\n",
    "        if  s[i] != lst[-1]:\n",
    "            lst.append(s[i])\n",
    "        else:\n",
    "            lst.pop()\n",
    "\n",
    "    if len(lst) == 0:\n",
    "        print(1)\n",
    "    else: \n",
    "        print(0)\n",
    "        \n"
   ]
  },
  {
   "cell_type": "code",
   "execution_count": 11,
   "metadata": {},
   "outputs": [
    {
     "name": "stdout",
     "output_type": "stream",
     "text": [
      "0\n"
     ]
    }
   ],
   "source": [
    "s = \"baabaa\"\n",
    "s = \"abccba\"\n",
    "s = \"cdcd\"\n",
    "solution(s)"
   ]
  },
  {
   "cell_type": "markdown",
   "metadata": {},
   "source": [
    "3-3 주식가격"
   ]
  },
  {
   "cell_type": "code",
   "execution_count": 12,
   "metadata": {},
   "outputs": [
    {
     "name": "stdout",
     "output_type": "stream",
     "text": [
      "[4, 3, 1, 1, 0]\n"
     ]
    }
   ],
   "source": [
    "prices =[1,2,3,2,3]\n",
    "def solution(lst):\n",
    "    temp = 0\n",
    "    stack =[]\n",
    "    result = [0] * len(lst)\n",
    "    for i in range(len(lst)):\n",
    "        if lst[i] > temp:\n",
    "            stack.append(i)\n",
    "        else:\n",
    "            current = stack[-1]\n",
    "            while lst[i] < lst[current]:\n",
    "                stack.pop()\n",
    "                result[current] = i - current\n",
    "                current = stack[-1]\n",
    "            stack.append(i)\n",
    "        temp = lst[i]\n",
    "    if stack:\n",
    "        for j in range(len(stack)):\n",
    "            result[stack[j]] =  len(lst) -1 - stack[j]\n",
    "    print(result)\n",
    "\n",
    "solution(prices)\n"
   ]
  },
  {
   "cell_type": "markdown",
   "metadata": {},
   "source": [
    "# 크레인 인형 뽑기 게임"
   ]
  },
  {
   "cell_type": "code",
   "execution_count": 13,
   "metadata": {},
   "outputs": [],
   "source": [
    "f = open('./test2.txt', 'r')\n",
    "board= []"
   ]
  },
  {
   "cell_type": "code",
   "execution_count": 14,
   "metadata": {},
   "outputs": [
    {
     "data": {
      "text/plain": [
       "[[0, 0, 0, 0, 0],\n",
       " [0, 0, 1, 0, 3],\n",
       " [0, 2, 5, 0, 1],\n",
       " [4, 2, 4, 4, 2],\n",
       " [3, 5, 1, 3, 1]]"
      ]
     },
     "execution_count": 14,
     "metadata": {},
     "output_type": "execute_result"
    }
   ],
   "source": [
    "for i in f.readlines():\n",
    "    board.append(list(map(int,i.strip().split(' '))))\n",
    "board"
   ]
  },
  {
   "cell_type": "code",
   "execution_count": 15,
   "metadata": {},
   "outputs": [],
   "source": [
    "def search(lst, num, dict):\n",
    "    num -= 1\n",
    "    if num not in dict:\n",
    "        dict[num] = 0\n",
    "    start =  dict[num]\n",
    "\n",
    "    for i in range(start, len(lst)):\n",
    "        result = lst[i][num]\n",
    "        if result == 0 :\n",
    "            dict[num] = i + 1\n",
    "            continue\n",
    "        else:\n",
    "            lst[i][num] = 0\n",
    "            dict[num] = i + 1\n",
    "            return result\n",
    "    return 0\n",
    "def solution(board, moves):\n",
    "    stack = []\n",
    "    answer = 0\n",
    "    dict = {}\n",
    "    for i in range(len(moves)):\n",
    "        temp = search(board,moves[i],dict)\n",
    "        if temp != 0:\n",
    "            stack.append(temp)\n",
    "        if len(stack) >= 2:\n",
    "            while len(stack) > 1 and (stack[-1] == stack[-2]):\n",
    "                stack.pop()\n",
    "                stack.pop()\n",
    "                answer +=2\n",
    "    return answer"
   ]
  },
  {
   "cell_type": "code",
   "execution_count": 16,
   "metadata": {},
   "outputs": [
    {
     "data": {
      "text/plain": [
       "4"
      ]
     },
     "execution_count": 16,
     "metadata": {},
     "output_type": "execute_result"
    }
   ],
   "source": [
    "moves = [1,5,3,5,1,2,1,4]\n",
    "solution(board, moves)"
   ]
  },
  {
   "cell_type": "markdown",
   "metadata": {},
   "source": [
    "# 표편집\n"
   ]
  },
  {
   "cell_type": "code",
   "execution_count": 17,
   "metadata": {},
   "outputs": [],
   "source": [
    "n = 8 \n",
    "k = 2\n",
    "cmd = [\"D 2\", \"C\", \"U 3\", \"C\", \"D 4\", \"C\", \"U 2\", \"Z\", \"Z\"]"
   ]
  },
  {
   "cell_type": "markdown",
   "metadata": {},
   "source": []
  },
  {
   "cell_type": "code",
   "execution_count": 18,
   "metadata": {},
   "outputs": [],
   "source": [
    "def remove(lst, stack, current):\n",
    "    lst[current] = 'X'\n",
    "    stack.append(current)\n",
    "    if current == (len(lst) -1) :\n",
    "        current -=1\n",
    "    else:\n",
    "        current +=1\n",
    "    return (lst, stack, current)"
   ]
  },
  {
   "cell_type": "code",
   "execution_count": 19,
   "metadata": {},
   "outputs": [],
   "source": [
    "def restore(lst,stack):\n",
    "    lst[stack[-1]] = 'O'\n",
    "    stack.pop()\n",
    "    return (lst,stack)"
   ]
  },
  {
   "cell_type": "code",
   "execution_count": 20,
   "metadata": {},
   "outputs": [],
   "source": [
    "def process(lst, stack, string, current):\n",
    "    if string == \"C\":#삭제 후 바로 아래 선택 끝이라면 윗행 선택\n",
    "        lst, stack, current = remove(lst,stack, current)\n",
    "    elif string == \"Z\": # 최근 삭제한 행을 복구, 선택은 그대로\n",
    "        lst, stack = restore(lst,stack)\n",
    "    else:\n",
    "        tmp = string.split(\" \")\n",
    "        if tmp[0] == \"D\": # 위칸 선\"택\n",
    "            for i in range(int(tmp[1])):\n",
    "                current += 1\n",
    "                while lst[current] == 'X':\n",
    "                    current +=1\n",
    "        else: # 아래칸 선택\n",
    "            for i in range(int(tmp[1])):\n",
    "                current -= 1\n",
    "                while lst[current] == 'X':\n",
    "                    current -=1\n",
    "\n",
    "    return lst, stack, current"
   ]
  },
  {
   "cell_type": "code",
   "execution_count": 21,
   "metadata": {},
   "outputs": [],
   "source": [
    "def solution(n,k,cmd):\n",
    "    lst = ['O']* n\n",
    "    stack = []\n",
    "    current = k\n",
    "    for c in cmd:\n",
    "        lst,stack, current = process(lst,stack,c,current)\n",
    "        print(c,lst,stack, current)\n",
    "    answer = ''\n",
    "    for s in lst:\n",
    "        answer+=s\n",
    "    return answer"
   ]
  },
  {
   "cell_type": "code",
   "execution_count": 22,
   "metadata": {},
   "outputs": [
    {
     "name": "stdout",
     "output_type": "stream",
     "text": [
      "D 2 ['O', 'O', 'O', 'O', 'O', 'O', 'O', 'O'] [] 4\n",
      "C ['O', 'O', 'O', 'O', 'X', 'O', 'O', 'O'] [4] 5\n",
      "U 3 ['O', 'O', 'O', 'O', 'X', 'O', 'O', 'O'] [4] 1\n",
      "C ['O', 'X', 'O', 'O', 'X', 'O', 'O', 'O'] [4, 1] 2\n",
      "D 4 ['O', 'X', 'O', 'O', 'X', 'O', 'O', 'O'] [4, 1] 7\n",
      "C ['O', 'X', 'O', 'O', 'X', 'O', 'O', 'X'] [4, 1, 7] 6\n",
      "U 2 ['O', 'X', 'O', 'O', 'X', 'O', 'O', 'X'] [4, 1, 7] 3\n",
      "Z ['O', 'X', 'O', 'O', 'X', 'O', 'O', 'O'] [4, 1] 3\n",
      "Z ['O', 'O', 'O', 'O', 'X', 'O', 'O', 'O'] [4] 3\n"
     ]
    },
    {
     "data": {
      "text/plain": [
       "'OOOOXOOO'"
      ]
     },
     "execution_count": 22,
     "metadata": {},
     "output_type": "execute_result"
    }
   ],
   "source": [
    "n = 8 \n",
    "k = 2\n",
    "cmd = [\"D 2\", \"C\", \"U 3\", \"C\", \"D 4\", \"C\", \"U 2\", \"Z\", \"Z\"]\n",
    "solution(n,k,cmd)"
   ]
  },
  {
   "cell_type": "code",
   "execution_count": 23,
   "metadata": {},
   "outputs": [
    {
     "name": "stdout",
     "output_type": "stream",
     "text": [
      "D 2 ['O', 'O', 'O', 'O', 'O', 'O', 'O', 'O'] [] 4\n",
      "C ['O', 'O', 'O', 'O', 'X', 'O', 'O', 'O'] [4] 5\n",
      "U 3 ['O', 'O', 'O', 'O', 'X', 'O', 'O', 'O'] [4] 1\n",
      "C ['O', 'X', 'O', 'O', 'X', 'O', 'O', 'O'] [4, 1] 2\n",
      "D 4 ['O', 'X', 'O', 'O', 'X', 'O', 'O', 'O'] [4, 1] 7\n",
      "C ['O', 'X', 'O', 'O', 'X', 'O', 'O', 'X'] [4, 1, 7] 6\n",
      "U 2 ['O', 'X', 'O', 'O', 'X', 'O', 'O', 'X'] [4, 1, 7] 3\n",
      "Z ['O', 'X', 'O', 'O', 'X', 'O', 'O', 'O'] [4, 1] 3\n",
      "Z ['O', 'O', 'O', 'O', 'X', 'O', 'O', 'O'] [4] 3\n",
      "U 1 ['O', 'O', 'O', 'O', 'X', 'O', 'O', 'O'] [4] 2\n",
      "C ['O', 'O', 'X', 'O', 'X', 'O', 'O', 'O'] [4, 2] 3\n"
     ]
    },
    {
     "data": {
      "text/plain": [
       "'OOXOXOOO'"
      ]
     },
     "execution_count": 23,
     "metadata": {},
     "output_type": "execute_result"
    }
   ],
   "source": [
    "n = 8 \n",
    "k = 2\n",
    "cmd = [\"D 2\", \"C\", \"U 3\", \"C\", \"D 4\", \"C\", \"U 2\", \"Z\", \"Z\", \"U 1\", \"C\"]\n",
    "solution(n,k,cmd)"
   ]
  },
  {
   "cell_type": "markdown",
   "metadata": {},
   "source": [
    "# 질문1\n",
    "\n",
    "스택을 이용하여 주어진 문자열을 뒤집는 알고리즘을 설계하고 구현해 보세요. \n",
    "\n",
    "이 알고리즘의 시간 복잡도와 공간 복잡도는 각각 어떻게 되나요? \n",
    "\n",
    "스택을 사용하지 않고도 문자열을 뒤집을 수 있는 다른 방법을 설명해 보세요.}"
   ]
  },
  {
   "cell_type": "code",
   "execution_count": 24,
   "metadata": {},
   "outputs": [
    {
     "name": "stdout",
     "output_type": "stream",
     "text": [
      "['a', 'r', 'b', 'a', 'd', 'a', 'c', 'a', 'r', 'b', 'a']\n"
     ]
    }
   ],
   "source": [
    "string = list(\"abracadabra\")\n",
    "stack = []\n",
    "for i in range(len(string)):\n",
    "    stack.append(string.pop())\n",
    "print(stack)"
   ]
  },
  {
   "cell_type": "markdown",
   "metadata": {},
   "source": [
    "시간 복잡도 = N(리스트의 길이)\n",
    "\n",
    "공간 복잡도 = N"
   ]
  },
  {
   "cell_type": "code",
   "execution_count": 25,
   "metadata": {},
   "outputs": [
    {
     "name": "stdout",
     "output_type": "stream",
     "text": [
      "['a', 'r', 'b', 'a', 'd', 'a', 'c', 'a', 'r', 'b', 'a']\n"
     ]
    }
   ],
   "source": [
    "# 리스트 인덱스를 거꾸로 하는 방법,,,? 따지고 보면 스텍과 같으려나,,?\n",
    "string = list(\"abracadabra\")\n",
    "lst = []\n",
    "for i in range(len(string)-1,-1,-1):\n",
    "    lst.append(string[i])\n",
    "print(lst)\n"
   ]
  },
  {
   "cell_type": "markdown",
   "metadata": {},
   "source": [
    "# 문제2\n",
    "\n",
    "스택이 재귀적인 함수 호출과 어떻게 관련이 있는지 설명해 보세요. \n",
    "\n",
    "재귀 함수를 스택을 사용하여 비재귀적으로 변환하는 방법을 예시를 통해 설명할 수 있나요?"
   ]
  },
  {
   "cell_type": "code",
   "execution_count": 26,
   "metadata": {},
   "outputs": [],
   "source": [
    "def factorial_recursive(n):\n",
    "    if n == 0:\n",
    "        return 1\n",
    "    else:\n",
    "        return n * factorial_recursive(n - 1)"
   ]
  },
  {
   "cell_type": "code",
   "execution_count": 27,
   "metadata": {},
   "outputs": [],
   "source": [
    "def stack_factoria(n):\n",
    "    stack = []\n",
    "    result = 1\n",
    "    while n > 0:\n",
    "        stack.append(n)\n",
    "        n -= 1\n",
    "    while stack:\n",
    "        result *= stack.pop()\n",
    "\n",
    "    return result"
   ]
  },
  {
   "cell_type": "markdown",
   "metadata": {},
   "source": [
    "# 실전문제\n",
    "\n",
    "문제 1: HTML 태그 유효성 검사\n",
    "\n",
    "HTML 문서에서 태그가 올바르게 열리고 닫혔는지 확인하는 프로그램을 작성하세요. <태그>  형태로 열리고 </태그> 형태로 닫혀야 합니다. 태그 이름은 영문 소문자만 사용됩니다.\n",
    "\n",
    "입력: HTML 태그가 포함된 문자열이 주어집니다.\n",
    "\n",
    "출력: 태그가 올바르게 열리고 닫혔다면 True, 그렇지 않다면 False를 출력합니다."
   ]
  },
  {
   "cell_type": "code",
   "execution_count": 28,
   "metadata": {},
   "outputs": [],
   "source": [
    "string = \"<div><p>Hello</p></div>\"\n",
    "string = \"<div><span>Hi</div></span>\""
   ]
  },
  {
   "cell_type": "code",
   "execution_count": 29,
   "metadata": {},
   "outputs": [],
   "source": [
    "lst = string.replace('>', '> ').replace('<',\" <\").split()"
   ]
  },
  {
   "cell_type": "code",
   "execution_count": 30,
   "metadata": {},
   "outputs": [],
   "source": [
    "lst1 = lst[0:len(lst)//2]\n",
    "lst2 = lst[len(lst)//2+1:][::-1]"
   ]
  },
  {
   "cell_type": "code",
   "execution_count": 31,
   "metadata": {},
   "outputs": [],
   "source": [
    "def solution():\n",
    "    for i,j in zip(lst1,lst2):\n",
    "        if i == j.replace('/',''):\n",
    "            continue\n",
    "        else:\n",
    "            return(False)\n",
    "    else:\n",
    "        return(True)\n",
    "        "
   ]
  },
  {
   "cell_type": "code",
   "execution_count": 32,
   "metadata": {},
   "outputs": [
    {
     "name": "stdout",
     "output_type": "stream",
     "text": [
      "False\n"
     ]
    }
   ],
   "source": [
    "print(solution())"
   ]
  },
  {
   "cell_type": "markdown",
   "metadata": {},
   "source": [
    "문제 2: 역순 이진수 표현\n",
    "\n",
    "주어진 양의 정수를 이진수로 변환한 후, 그 이진수를 뒤집어 정수로 다시 변환한 결과를 출력하는 프로그램을 작성하세요.\n",
    "\n",
    "입력: 하나의 양의 정수 N이 주어집니다.\n",
    "\n",
    "출력: 이진수를 뒤집어 변환한 결과 정수를 출력합니다."
   ]
  },
  {
   "cell_type": "code",
   "execution_count": 33,
   "metadata": {},
   "outputs": [
    {
     "name": "stdout",
     "output_type": "stream",
     "text": [
      "11\n"
     ]
    }
   ],
   "source": [
    "stack = []\n",
    "n= 13\n",
    "while n != 0:\n",
    "    if n%2 == 0:\n",
    "        stack.append(0)\n",
    "    else:\n",
    "        stack.append(1)\n",
    "    n //= 2\n",
    "\n",
    "answer = 0\n",
    "resverse = stack[::-1]\n",
    "for i in range(len(resverse)):\n",
    "    answer += resverse[i] * (2**i)\n",
    "\n",
    "print(answer)\n"
   ]
  },
  {
   "cell_type": "markdown",
   "metadata": {},
   "source": []
  }
 ],
 "metadata": {
  "kernelspec": {
   "display_name": "torch3.9.6",
   "language": "python",
   "name": "python3"
  },
  "language_info": {
   "codemirror_mode": {
    "name": "ipython",
    "version": 3
   },
   "file_extension": ".py",
   "mimetype": "text/x-python",
   "name": "python",
   "nbconvert_exporter": "python",
   "pygments_lexer": "ipython3",
   "version": "3.11.7"
  }
 },
 "nbformat": 4,
 "nbformat_minor": 2
}
